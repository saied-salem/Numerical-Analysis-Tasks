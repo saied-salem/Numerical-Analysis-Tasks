{
 "cells": [
  {
   "cell_type": "code",
   "execution_count": 10,
   "metadata": {},
   "outputs": [],
   "source": [
    "import math \n",
    "import numpy as np\n",
    "%matplotlib inline\n",
    "import matplotlib.pyplot as plt"
   ]
  },
  {
   "cell_type": "code",
   "execution_count": 38,
   "metadata": {},
   "outputs": [
    {
     "name": "stdout",
     "output_type": "stream",
     "text": [
      "root using secant with initial values 1,1000 =  -15150.127097680992\n",
      "root using newton with xr=100 = 220.02015638821786\n"
     ]
    },
    {
     "data": {
      "text/plain": [
       "[<matplotlib.lines.Line2D at 0x1ed24846f10>]"
      ]
     },
     "execution_count": 38,
     "metadata": {},
     "output_type": "execute_result"
    },
    {
     "data": {
      "image/png": "[encoded data removed]",
      "text/plain": [
       "<Figure size 432x288 with 1 Axes>"
      ]
     },
     "metadata": {
      "needs_background": "light"
     },
     "output_type": "display_data"
    }
   ],
   "source": [
    "r=225\n",
    "c=6*10**(-7)\n",
    "h=0.5\n",
    "z=100\n",
    "x = np.linspace(-20000,20000,20000)\n",
    "y=(np.sqrt((1/r**2)+(x*c-(1/(x*h)))**2))-(1/z)\n",
    "def ff(x):\n",
    "    \n",
    "    y=(1/z)-(math.sqrt((1/r**2)+(x*c-(1/(x*h)))**2))\n",
    "    return(y)\n",
    "def fdash(x):\n",
    "    \n",
    "    y=-(1/(math.sqrt((1/r**2)+(x*c-(1/(x*h)))**2)))*((c+(1/((x**2)*h)))*((x*c)-(1/(x*h))))\n",
    "    return(y)\n",
    "def secant(xr1,xr2,error):\n",
    "    d=[]\n",
    "    while True :  \n",
    "        xrold=xr2\n",
    "        xr=xr2-((ff(xr2)*(xr1-xr2))/(ff(xr1)-ff(xr2)))\n",
    "        d.append(xr)\n",
    "        xr1=xr2\n",
    "        xr2=xr\n",
    "        if(xr!=0):\n",
    "            ea=abs((xr-xrold)/xr)*100\n",
    "        if(ea<=error):\n",
    "            k=[]\n",
    "            for i in d:\n",
    "                k.append(ff(i))\n",
    "            plt.scatter(d,k, label='Sine')\n",
    "            root =xr\n",
    "            return root\n",
    "            break       \n",
    "def newton(xr,error):\n",
    "    d=[xr]\n",
    "    while True :   \n",
    "        xrold=xr\n",
    "        xr=xr-(ff(xr)/fdash(xr))\n",
    "        d.append(xr)\n",
    "        if(xr!=0):\n",
    "            ea=abs((xr-xrold)/xr)*100\n",
    "        if(ea<=error):\n",
    "            k=[]\n",
    "            for i in d:\n",
    "                k.append(ff(i))         \n",
    "            root =xr\n",
    "            plt.scatter(d,k)\n",
    "            plt.legend(['secant method','newton using 100',])\n",
    "            return root\n",
    "            break\n",
    "print(\"root using secant with initial values 1,1000 = \",secant(1,1000,0.0001))\n",
    "print(\"root using newton with xr=100 =\",newton(100,0.0001))\n",
    "plt.ylim((-0.02,0.02))\n",
    "plt.grid()\n",
    "plt.plot(x,y)"
   ]
  },
  {
   "cell_type": "code",
   "execution_count": null,
   "metadata": {},
   "outputs": [],
   "source": []
  },
  {
   "cell_type": "code",
   "execution_count": null,
   "metadata": {},
   "outputs": [],
   "source": []
  }
 ],
 "metadata": {
  "kernelspec": {
   "display_name": "Python 3",
   "language": "python",
   "name": "python3"
  },
  "language_info": {
   "codemirror_mode": {
    "name": "ipython",
    "version": 3
   },
   "file_extension": ".py",
   "mimetype": "text/x-python",
   "name": "python",
   "nbconvert_exporter": "python",
   "pygments_lexer": "ipython3",
   "version": "3.8.3"
  }
 },
 "nbformat": 4,
 "nbformat_minor": 4
}
