{
 "cells": [
  {
   "cell_type": "code",
   "execution_count": 3,
   "metadata": {
    "scrolled": true
   },
   "outputs": [
    {
     "name": "stdout",
     "output_type": "stream",
     "text": [
      "219.80000000000018\n",
      "-8.275324260143338e-06\n",
      "219.9000000000002\n",
      "-4.514252060891857e-06\n",
      "220.0000000000002\n",
      "-7.568973016489761e-07\n",
      "220.1000000000002\n",
      "2.9967451532237482e-06\n",
      "220.2000000000002\n",
      "6.7466804300319455e-06\n"
     ]
    },
    {
     "data": {
      "text/plain": [
       "<matplotlib.legend.Legend at 0x2525b03cd08>"
      ]
     },
     "execution_count": 3,
     "metadata": {},
     "output_type": "execute_result"
    },
    {
     "data": {
      "image/png": "[encoded data removed]",
      "text/plain": [
       "<Figure size 432x288 with 1 Axes>"
      ]
     },
     "metadata": {
      "needs_background": "light"
     },
     "output_type": "display_data"
    }
   ],
   "source": [
    "import numpy as np\n",
    "import matplotlib.pyplot as plt\n",
    "import math\n",
    "\n",
    "R = 225\n",
    "c=0.6*10**(-6)\n",
    "l=0.5\n",
    "z=100\n",
    "def fzero(R,c,l,z,omega):\n",
    "    fz= 1/z - (math.sqrt(1/R**2 +(omega*c -1/(omega*l))**2))\n",
    "    return fz\n",
    "estim = np.arange(1,10000,0.1)\n",
    "\n",
    "solution=0\n",
    "for i in estim :\n",
    "    find = fzero(R,c,l,z,i)\n",
    "\n",
    "    if(find <= 0.00001 and find >= -0.00001):\n",
    "        print (i)\n",
    "        print(find)\n",
    "        solution=i\n",
    "\n",
    "y= []\n",
    "x=estim\n",
    "for i in x:\n",
    "    y.append(fzero(R,c,l,z,i))\n",
    "    \n",
    "plt.plot(x,y, label='function')\n",
    "plt.plot(solution ,fzero(R,c,l,z,solution),\"or\", label='mass')\n",
    "plt.grid()\n",
    "plt.legend()"
   ]
  },
  {
   "cell_type": "code",
   "execution_count": null,
   "metadata": {},
   "outputs": [],
   "source": []
  },
  {
   "cell_type": "code",
   "execution_count": null,
   "metadata": {},
   "outputs": [],
   "source": []
  }
 ],
 "metadata": {
  "kernelspec": {
   "display_name": "Python 3",
   "language": "python",
   "name": "python3"
  },
  "language_info": {
   "codemirror_mode": {
    "name": "ipython",
    "version": 3
   },
   "file_extension": ".py",
   "mimetype": "text/x-python",
   "name": "python",
   "nbconvert_exporter": "python",
   "pygments_lexer": "ipython3",
   "version": "3.7.4"
  }
 },
 "nbformat": 4,
 "nbformat_minor": 2
}
